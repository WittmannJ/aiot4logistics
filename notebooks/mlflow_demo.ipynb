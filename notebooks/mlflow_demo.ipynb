{
 "cells": [
  {
   "cell_type": "code",
   "execution_count": 5,
   "metadata": {},
   "outputs": [
    {
     "name": "stderr",
     "output_type": "stream",
     "text": [
      "2023/03/15 15:44:07 INFO mlflow.tracking.fluent: Experiment with name 'my-experiment1' does not exist. Creating a new experiment.\n"
     ]
    },
    {
     "ename": "MlflowException",
     "evalue": "INVALID_PARAMETER_VALUE: Changing param values is not allowed. Param with key='param1' was already logged with value='91' for run ID='35d7de9f18924195890050a7e23a3397'. Attempted logging new value '59'.\n\nThe cause of this error is typically due to repeated calls\nto an individual run_id event logging.\n\nIncorrect Example:\n---------------------------------------\nwith mlflow.start_run():\n    mlflow.log_param(\"depth\", 3)\n    mlflow.log_param(\"depth\", 5)\n---------------------------------------\n\nWhich will throw an MlflowException for overwriting a\nlogged parameter.\n\nCorrect Example:\n---------------------------------------\nwith mlflow.start_run():\n    with mlflow.start_run(nested=True):\n        mlflow.log_param(\"depth\", 3)\n    with mlflow.start_run(nested=True):\n        mlflow.log_param(\"depth\", 5)\n---------------------------------------\n\nWhich will create a new nested run for each individual\nmodel and prevent parameter key collisions within the\ntracking store.'",
     "output_type": "error",
     "traceback": [
      "\u001b[0;31m---------------------------------------------------------------------------\u001b[0m",
      "\u001b[0;31mRestException\u001b[0m                             Traceback (most recent call last)",
      "File \u001b[0;32m/usr/local/lib/python3.8/dist-packages/mlflow/tracking/_tracking_service/client.py:295\u001b[0m, in \u001b[0;36mTrackingServiceClient.log_param\u001b[0;34m(self, run_id, key, value)\u001b[0m\n\u001b[1;32m    294\u001b[0m \u001b[39mtry\u001b[39;00m:\n\u001b[0;32m--> 295\u001b[0m     \u001b[39mself\u001b[39;49m\u001b[39m.\u001b[39;49mstore\u001b[39m.\u001b[39;49mlog_param(run_id, param)\n\u001b[1;32m    296\u001b[0m \u001b[39mexcept\u001b[39;00m MlflowException \u001b[39mas\u001b[39;00m e:\n",
      "File \u001b[0;32m/usr/local/lib/python3.8/dist-packages/mlflow/store/tracking/rest_store.py:208\u001b[0m, in \u001b[0;36mRestStore.log_param\u001b[0;34m(self, run_id, param)\u001b[0m\n\u001b[1;32m    205\u001b[0m req_body \u001b[39m=\u001b[39m message_to_json(\n\u001b[1;32m    206\u001b[0m     LogParam(run_uuid\u001b[39m=\u001b[39mrun_id, run_id\u001b[39m=\u001b[39mrun_id, key\u001b[39m=\u001b[39mparam\u001b[39m.\u001b[39mkey, value\u001b[39m=\u001b[39mparam\u001b[39m.\u001b[39mvalue)\n\u001b[1;32m    207\u001b[0m )\n\u001b[0;32m--> 208\u001b[0m \u001b[39mself\u001b[39;49m\u001b[39m.\u001b[39;49m_call_endpoint(LogParam, req_body)\n",
      "File \u001b[0;32m/usr/local/lib/python3.8/dist-packages/mlflow/store/tracking/rest_store.py:56\u001b[0m, in \u001b[0;36mRestStore._call_endpoint\u001b[0;34m(self, api, json_body)\u001b[0m\n\u001b[1;32m     55\u001b[0m response_proto \u001b[39m=\u001b[39m api\u001b[39m.\u001b[39mResponse()\n\u001b[0;32m---> 56\u001b[0m \u001b[39mreturn\u001b[39;00m call_endpoint(\u001b[39mself\u001b[39;49m\u001b[39m.\u001b[39;49mget_host_creds(), endpoint, method, json_body, response_proto)\n",
      "File \u001b[0;32m/usr/local/lib/python3.8/dist-packages/mlflow/utils/rest_utils.py:281\u001b[0m, in \u001b[0;36mcall_endpoint\u001b[0;34m(host_creds, endpoint, method, json_body, response_proto)\u001b[0m\n\u001b[1;32m    278\u001b[0m     response \u001b[39m=\u001b[39m http_request(\n\u001b[1;32m    279\u001b[0m         host_creds\u001b[39m=\u001b[39mhost_creds, endpoint\u001b[39m=\u001b[39mendpoint, method\u001b[39m=\u001b[39mmethod, json\u001b[39m=\u001b[39mjson_body\n\u001b[1;32m    280\u001b[0m     )\n\u001b[0;32m--> 281\u001b[0m response \u001b[39m=\u001b[39m verify_rest_response(response, endpoint)\n\u001b[1;32m    282\u001b[0m js_dict \u001b[39m=\u001b[39m json\u001b[39m.\u001b[39mloads(response\u001b[39m.\u001b[39mtext)\n",
      "File \u001b[0;32m/usr/local/lib/python3.8/dist-packages/mlflow/utils/rest_utils.py:207\u001b[0m, in \u001b[0;36mverify_rest_response\u001b[0;34m(response, endpoint)\u001b[0m\n\u001b[1;32m    206\u001b[0m \u001b[39mif\u001b[39;00m _can_parse_as_json_object(response\u001b[39m.\u001b[39mtext):\n\u001b[0;32m--> 207\u001b[0m     \u001b[39mraise\u001b[39;00m RestException(json\u001b[39m.\u001b[39mloads(response\u001b[39m.\u001b[39mtext))\n\u001b[1;32m    208\u001b[0m \u001b[39melse\u001b[39;00m:\n",
      "\u001b[0;31mRestException\u001b[0m: INVALID_PARAMETER_VALUE: Changing param values is not allowed. Param with key='param1' was already logged with value='91' for run ID='35d7de9f18924195890050a7e23a3397'. Attempted logging new value '59'.",
      "\nDuring handling of the above exception, another exception occurred:\n",
      "\u001b[0;31mMlflowException\u001b[0m                           Traceback (most recent call last)",
      "\u001b[1;32m/workspaces/aiot4logistics/notebooks/mlflow_demo.ipynb Cell 1\u001b[0m in \u001b[0;36m9\n\u001b[1;32m      <a href='vscode-notebook-cell://dev-container%2B7b22686f737450617468223a222f686f6d652f747a70756c736b692f64617461736369656e63652f61696f74346c6f67697374696373222c226c6f63616c446f636b6572223a66616c73652c2273657474696e6773223a7b22686f7374223a227373683a2f2f61697365727665722e747a702e6861772d6c616e64736875742e6465227d2c22636f6e66696746696c65223a7b22246d6964223a312c2270617468223a222f686f6d652f747a70756c736b692f64617461736369656e63652f61696f74346c6f676973746963732f2e646576636f6e7461696e65722f646576636f6e7461696e65722e6a736f6e222c22736368656d65223a227673636f64652d66696c65486f7374227d7d/workspaces/aiot4logistics/notebooks/mlflow_demo.ipynb#W0sdnNjb2RlLXJlbW90ZQ%3D%3D?line=5'>6</a>\u001b[0m mlflow\u001b[39m.\u001b[39mset_experiment(\u001b[39m\"\u001b[39m\u001b[39mmy-experiment1\u001b[39m\u001b[39m\"\u001b[39m)\n\u001b[1;32m      <a href='vscode-notebook-cell://dev-container%2B7b22686f737450617468223a222f686f6d652f747a70756c736b692f64617461736369656e63652f61696f74346c6f67697374696373222c226c6f63616c446f636b6572223a66616c73652c2273657474696e6773223a7b22686f7374223a227373683a2f2f61697365727665722e747a702e6861772d6c616e64736875742e6465227d2c22636f6e66696746696c65223a7b22246d6964223a312c2270617468223a222f686f6d652f747a70756c736b692f64617461736369656e63652f61696f74346c6f676973746963732f2e646576636f6e7461696e65722f646576636f6e7461696e65722e6a736f6e222c22736368656d65223a227673636f64652d66696c65486f7374227d7d/workspaces/aiot4logistics/notebooks/mlflow_demo.ipynb#W0sdnNjb2RlLXJlbW90ZQ%3D%3D?line=7'>8</a>\u001b[0m \u001b[39m# Log a parameter (key-value pair)\u001b[39;00m\n\u001b[0;32m----> <a href='vscode-notebook-cell://dev-container%2B7b22686f737450617468223a222f686f6d652f747a70756c736b692f64617461736369656e63652f61696f74346c6f67697374696373222c226c6f63616c446f636b6572223a66616c73652c2273657474696e6773223a7b22686f7374223a227373683a2f2f61697365727665722e747a702e6861772d6c616e64736875742e6465227d2c22636f6e66696746696c65223a7b22246d6964223a312c2270617468223a222f686f6d652f747a70756c736b692f64617461736369656e63652f61696f74346c6f676973746963732f2e646576636f6e7461696e65722f646576636f6e7461696e65722e6a736f6e222c22736368656d65223a227673636f64652d66696c65486f7374227d7d/workspaces/aiot4logistics/notebooks/mlflow_demo.ipynb#W0sdnNjb2RlLXJlbW90ZQ%3D%3D?line=8'>9</a>\u001b[0m log_param(\u001b[39m\"\u001b[39;49m\u001b[39mparam1\u001b[39;49m\u001b[39m\"\u001b[39;49m, randint(\u001b[39m0\u001b[39;49m, \u001b[39m100\u001b[39;49m))\n\u001b[1;32m     <a href='vscode-notebook-cell://dev-container%2B7b22686f737450617468223a222f686f6d652f747a70756c736b692f64617461736369656e63652f61696f74346c6f67697374696373222c226c6f63616c446f636b6572223a66616c73652c2273657474696e6773223a7b22686f7374223a227373683a2f2f61697365727665722e747a702e6861772d6c616e64736875742e6465227d2c22636f6e66696746696c65223a7b22246d6964223a312c2270617468223a222f686f6d652f747a70756c736b692f64617461736369656e63652f61696f74346c6f676973746963732f2e646576636f6e7461696e65722f646576636f6e7461696e65722e6a736f6e222c22736368656d65223a227673636f64652d66696c65486f7374227d7d/workspaces/aiot4logistics/notebooks/mlflow_demo.ipynb#W0sdnNjb2RlLXJlbW90ZQ%3D%3D?line=10'>11</a>\u001b[0m \u001b[39m# Log a metric; metrics can be updated throughout the run\u001b[39;00m\n\u001b[1;32m     <a href='vscode-notebook-cell://dev-container%2B7b22686f737450617468223a222f686f6d652f747a70756c736b692f64617461736369656e63652f61696f74346c6f67697374696373222c226c6f63616c446f636b6572223a66616c73652c2273657474696e6773223a7b22686f7374223a227373683a2f2f61697365727665722e747a702e6861772d6c616e64736875742e6465227d2c22636f6e66696746696c65223a7b22246d6964223a312c2270617468223a222f686f6d652f747a70756c736b692f64617461736369656e63652f61696f74346c6f676973746963732f2e646576636f6e7461696e65722f646576636f6e7461696e65722e6a736f6e222c22736368656d65223a227673636f64652d66696c65486f7374227d7d/workspaces/aiot4logistics/notebooks/mlflow_demo.ipynb#W0sdnNjb2RlLXJlbW90ZQ%3D%3D?line=11'>12</a>\u001b[0m log_metric(\u001b[39m\"\u001b[39m\u001b[39mfoo\u001b[39m\u001b[39m\"\u001b[39m, random())\n",
      "File \u001b[0;32m/usr/local/lib/python3.8/dist-packages/mlflow/tracking/fluent.py:541\u001b[0m, in \u001b[0;36mlog_param\u001b[0;34m(key, value)\u001b[0m\n\u001b[1;32m    517\u001b[0m \u001b[39m\"\"\"\u001b[39;00m\n\u001b[1;32m    518\u001b[0m \u001b[39mLog a parameter (e.g. model hyperparameter) under the current run. If no run is active,\u001b[39;00m\n\u001b[1;32m    519\u001b[0m \u001b[39mthis method will create a new active run.\u001b[39;00m\n\u001b[0;32m   (...)\u001b[0m\n\u001b[1;32m    538\u001b[0m \u001b[39m        assert value == 0.01\u001b[39;00m\n\u001b[1;32m    539\u001b[0m \u001b[39m\"\"\"\u001b[39;00m\n\u001b[1;32m    540\u001b[0m run_id \u001b[39m=\u001b[39m _get_or_start_run()\u001b[39m.\u001b[39minfo\u001b[39m.\u001b[39mrun_id\n\u001b[0;32m--> 541\u001b[0m \u001b[39mreturn\u001b[39;00m MlflowClient()\u001b[39m.\u001b[39;49mlog_param(run_id, key, value)\n",
      "File \u001b[0;32m/usr/local/lib/python3.8/dist-packages/mlflow/tracking/client.py:742\u001b[0m, in \u001b[0;36mMlflowClient.log_param\u001b[0;34m(self, run_id, key, value)\u001b[0m\n\u001b[1;32m    689\u001b[0m \u001b[39mdef\u001b[39;00m \u001b[39mlog_param\u001b[39m(\u001b[39mself\u001b[39m, run_id: \u001b[39mstr\u001b[39m, key: \u001b[39mstr\u001b[39m, value: Any) \u001b[39m-\u001b[39m\u001b[39m>\u001b[39m Any:\n\u001b[1;32m    690\u001b[0m     \u001b[39m\"\"\"\u001b[39;00m\n\u001b[1;32m    691\u001b[0m \u001b[39m    Log a parameter (e.g. model hyperparameter) against the run ID.\u001b[39;00m\n\u001b[1;32m    692\u001b[0m \n\u001b[0;32m   (...)\u001b[0m\n\u001b[1;32m    740\u001b[0m \u001b[39m        status: FINISHED\u001b[39;00m\n\u001b[1;32m    741\u001b[0m \u001b[39m    \"\"\"\u001b[39;00m\n\u001b[0;32m--> 742\u001b[0m     \u001b[39mself\u001b[39;49m\u001b[39m.\u001b[39;49m_tracking_client\u001b[39m.\u001b[39;49mlog_param(run_id, key, value)\n\u001b[1;32m    743\u001b[0m     \u001b[39mreturn\u001b[39;00m value\n",
      "File \u001b[0;32m/usr/local/lib/python3.8/dist-packages/mlflow/tracking/_tracking_service/client.py:299\u001b[0m, in \u001b[0;36mTrackingServiceClient.log_param\u001b[0;34m(self, run_id, key, value)\u001b[0m\n\u001b[1;32m    297\u001b[0m \u001b[39mif\u001b[39;00m e\u001b[39m.\u001b[39merror_code \u001b[39m==\u001b[39m ErrorCode\u001b[39m.\u001b[39mName(INVALID_PARAMETER_VALUE):\n\u001b[1;32m    298\u001b[0m     msg \u001b[39m=\u001b[39m \u001b[39mf\u001b[39m\u001b[39m\"\u001b[39m\u001b[39m{\u001b[39;00me\u001b[39m.\u001b[39mmessage\u001b[39m}\u001b[39;00m\u001b[39m{\u001b[39;00mPARAM_VALIDATION_MSG\u001b[39m}\u001b[39;00m\u001b[39m'\u001b[39m\u001b[39m\"\u001b[39m\n\u001b[0;32m--> 299\u001b[0m     \u001b[39mraise\u001b[39;00m MlflowException(msg, INVALID_PARAMETER_VALUE)\n\u001b[1;32m    300\u001b[0m \u001b[39melse\u001b[39;00m:\n\u001b[1;32m    301\u001b[0m     \u001b[39mraise\u001b[39;00m e\n",
      "\u001b[0;31mMlflowException\u001b[0m: INVALID_PARAMETER_VALUE: Changing param values is not allowed. Param with key='param1' was already logged with value='91' for run ID='35d7de9f18924195890050a7e23a3397'. Attempted logging new value '59'.\n\nThe cause of this error is typically due to repeated calls\nto an individual run_id event logging.\n\nIncorrect Example:\n---------------------------------------\nwith mlflow.start_run():\n    mlflow.log_param(\"depth\", 3)\n    mlflow.log_param(\"depth\", 5)\n---------------------------------------\n\nWhich will throw an MlflowException for overwriting a\nlogged parameter.\n\nCorrect Example:\n---------------------------------------\nwith mlflow.start_run():\n    with mlflow.start_run(nested=True):\n        mlflow.log_param(\"depth\", 3)\n    with mlflow.start_run(nested=True):\n        mlflow.log_param(\"depth\", 5)\n---------------------------------------\n\nWhich will create a new nested run for each individual\nmodel and prevent parameter key collisions within the\ntracking store.'"
     ]
    }
   ],
   "source": [
    "import os\n",
    "from random import random, randint\n",
    "from mlflow import log_metric, log_param, log_artifacts\n",
    "\n",
    "mlflow.set_tracking_uri(\"http://aiserver.tzp.haw-landshut.de:5000\")\n",
    "mlflow.set_experiment(\"my-experiment1\")\n",
    "\n",
    "# Log a parameter (key-value pair)\n",
    "log_param(\"param1\", randint(0, 100))\n",
    "\n",
    "# Log a metric; metrics can be updated throughout the run\n",
    "log_metric(\"foo\", random())\n",
    "log_metric(\"foo\", random() + 1)\n",
    "log_metric(\"foo\", random() + 2)\n",
    "\n",
    "# Log an artifact (output file)\n",
    "if not os.path.exists(\"outputs\"):\n",
    "    os.makedirs(\"outputs\")\n",
    "with open(\"outputs/test.txt\", \"w\") as f:\n",
    "    f.write(\"hello world!\")\n",
    "log_artifacts(\"outputs\")"
   ]
  },
  {
   "cell_type": "code",
   "execution_count": null,
   "metadata": {},
   "outputs": [],
   "source": []
  }
 ],
 "metadata": {
  "kernelspec": {
   "display_name": "Python 3",
   "language": "python",
   "name": "python3"
  },
  "language_info": {
   "codemirror_mode": {
    "name": "ipython",
    "version": 3
   },
   "file_extension": ".py",
   "mimetype": "text/x-python",
   "name": "python",
   "nbconvert_exporter": "python",
   "pygments_lexer": "ipython3",
   "version": "3.8.10"
  },
  "orig_nbformat": 4
 },
 "nbformat": 4,
 "nbformat_minor": 2
}
