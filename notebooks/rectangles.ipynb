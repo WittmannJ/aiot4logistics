{
 "cells": [
  {
   "cell_type": "code",
   "execution_count": 1,
   "metadata": {},
   "outputs": [],
   "source": [
    "def calculate_overlap(rect1, rect2):\n",
    "    # Rectangles are represented by the coordinates of their four corners\n",
    "    # rect1 and rect2 are lists of coordinates in the format [(x1,y1), (x2,y2), (x3,y3), (x4,y4)]\n",
    "\n",
    "    # Calculate the area of the rectangles\n",
    "    area_rect1 = (rect1[2][0] - rect1[0][0]) * (rect1[2][1] - rect1[0][1])\n",
    "    area_rect2 = (rect2[2][0] - rect2[0][0]) * (rect2[2][1] - rect2[0][1])\n",
    "\n",
    "    # Calculate the intersection between the two rectangles\n",
    "    left = max(rect1[0][0], rect2[0][0])\n",
    "    right = min(rect1[2][0], rect2[2][0])\n",
    "    top = max(rect1[0][1], rect2[0][1])\n",
    "    bottom = min(rect1[2][1], rect2[2][1])\n",
    "\n",
    "    # Calculate the area of the intersection\n",
    "    if left < right and top < bottom:\n",
    "        intersection_area = (right - left) * (bottom - top)\n",
    "    else:\n",
    "        intersection_area = 0\n",
    "\n",
    "    # Calculate the percentage of overlap\n",
    "    overlap_percent = intersection_area / min(area_rect1, area_rect2) * 100\n",
    "\n",
    "    return overlap_percent\n"
   ]
  },
  {
   "cell_type": "code",
   "execution_count": 8,
   "metadata": {},
   "outputs": [],
   "source": [
    "def calculate_overlap(rect1, rect2):\n",
    "    # Rectangles are represented by the coordinates of their four corners\n",
    "    # rect1 and rect2 are lists of coordinates in the format [(x1,y1), (x2,y2), (x3,y3), (x4,y4)]\n",
    "\n",
    "    # Calculate the intersection between the two rectangles\n",
    "    left = max(rect1[0][0], rect2[0][0])\n",
    "    right = min(rect1[2][0], rect2[2][0])\n",
    "    top = max(rect1[0][1], rect2[0][1])\n",
    "    bottom = min(rect1[2][1], rect2[2][1])\n",
    "\n",
    "    # Calculate the area of the intersection\n",
    "    if left < right and top < bottom:\n",
    "        intersection_area = (right - left) * (bottom - top)\n",
    "    else:\n",
    "        intersection_area = 0\n",
    "\n",
    "    return intersection_area\n"
   ]
  },
  {
   "cell_type": "code",
   "execution_count": 14,
   "metadata": {},
   "outputs": [
    {
     "name": "stdout",
     "output_type": "stream",
     "text": [
      "Overlap percentage: 16.00%\n"
     ]
    }
   ],
   "source": [
    "rect1 = [(0, 0), (7, 0), (7, 7), (0, 7)]\n",
    "rect2 = [(2, 2), (6, 2), (6, 6), (2, 6)]\n",
    "\n",
    "overlap_percent = calculate_overlap(rect1, rect2)\n",
    "print(\"Overlap percentage: {:.2f}%\".format(overlap_percent))"
   ]
  },
  {
   "cell_type": "code",
   "execution_count": 15,
   "metadata": {},
   "outputs": [
    {
     "name": "stdout",
     "output_type": "stream",
     "text": [
      "Intersection area: 16\n"
     ]
    }
   ],
   "source": [
    "intersection_area = calculate_overlap(rect1, rect2)\n",
    "print(\"Intersection area: {}\".format(intersection_area))"
   ]
  },
  {
   "cell_type": "code",
   "execution_count": 16,
   "metadata": {},
   "outputs": [],
   "source": [
    "import matplotlib.pyplot as plt\n",
    "from matplotlib.patches import Rectangle\n",
    "\n",
    "def plot_rectangles(rect1, rect2):\n",
    "    # Create a new figure\n",
    "    fig, ax = plt.subplots()\n",
    "\n",
    "    # Add the first rectangle to the plot\n",
    "    rect1_patch = Rectangle(rect1[0], rect1[2][0] - rect1[0][0], rect1[2][1] - rect1[0][1], linewidth=1, edgecolor='r', facecolor='none')\n",
    "    ax.add_patch(rect1_patch)\n",
    "\n",
    "    # Add the second rectangle to the plot\n",
    "    rect2_patch = Rectangle(rect2[0], rect2[2][0] - rect2[0][0], rect2[2][1] - rect2[0][1], linewidth=1, edgecolor='b', facecolor='none')\n",
    "    ax.add_patch(rect2_patch)\n",
    "\n",
    "    # Set the limits of the plot\n",
    "    ax.set_xlim(min(rect1[0][0], rect2[0][0]) - 1, max(rect1[2][0], rect2[2][0]) + 1)\n",
    "    ax.set_ylim(min(rect1[0][1], rect2[0][1]) - 1, max(rect1[2][1], rect2[2][1]) + 1)\n",
    "\n",
    "    # Show the plot\n",
    "    plt.show()\n"
   ]
  },
  {
   "cell_type": "code",
   "execution_count": 17,
   "metadata": {},
   "outputs": [
    {
     "data": {
      "image/png": "[encoded data removed]",
      "text/plain": [
       "<Figure size 640x480 with 1 Axes>"
      ]
     },
     "metadata": {},
     "output_type": "display_data"
    }
   ],
   "source": [
    "plot_rectangles(rect1, rect2)"
   ]
  },
  {
   "cell_type": "code",
   "execution_count": null,
   "metadata": {},
   "outputs": [],
   "source": []
  }
 ],
 "metadata": {
  "kernelspec": {
   "display_name": "Python 3",
   "language": "python",
   "name": "python3"
  },
  "language_info": {
   "codemirror_mode": {
    "name": "ipython",
    "version": 3
   },
   "file_extension": ".py",
   "mimetype": "text/x-python",
   "name": "python",
   "nbconvert_exporter": "python",
   "pygments_lexer": "ipython3",
   "version": "3.8.10"
  },
  "orig_nbformat": 4
 },
 "nbformat": 4,
 "nbformat_minor": 2
}
