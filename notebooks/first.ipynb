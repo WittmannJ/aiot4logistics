{
 "cells": [
  {
   "attachments": {},
   "cell_type": "markdown",
   "metadata": {},
   "source": [
    "# Imports"
   ]
  },
  {
   "cell_type": "code",
   "execution_count": 20,
   "metadata": {},
   "outputs": [],
   "source": [
    "import numpy as np\n",
    "import os, glob, json\n",
    "from typing import Tuple, Iterable\n",
    "from multiprocessing import Pool, Process\n",
    "import matplotlib.pyplot as plt\n",
    "import time\n"
   ]
  },
  {
   "attachments": {},
   "cell_type": "markdown",
   "metadata": {},
   "source": [
    "# Datenimport"
   ]
  },
  {
   "cell_type": "code",
   "execution_count": 2,
   "metadata": {},
   "outputs": [],
   "source": [
    "def getJsonFileNamesInFolder(path2jsonFiles: str) -> Iterable[str]:\n",
    "    res = glob.glob(path2jsonFiles)\n",
    "    return res"
   ]
  },
  {
   "cell_type": "code",
   "execution_count": 3,
   "metadata": {},
   "outputs": [
    {
     "data": {
      "text/plain": [
       "'../data/traintest/1662041197516_to_1662466208815_shape_40000_4_sampleRate_4000_durationInSeconds_10.json'"
      ]
     },
     "execution_count": 3,
     "metadata": {},
     "output_type": "execute_result"
    }
   ],
   "source": [
    "a = getJsonFileNamesInFolder(\"../data/traintest/*.json\")\n",
    "a[1]"
   ]
  },
  {
   "cell_type": "code",
   "execution_count": 4,
   "metadata": {},
   "outputs": [],
   "source": [
    "def parseJsonFile(filename: str) -> dict:\n",
    "    # start_t = time.perf_counter()\n",
    "    file = open(filename)\n",
    "    content = json.load(file)\n",
    "    file.close()\n",
    "    # end_t = time.perf_counter()\n",
    "    return filename, content"
   ]
  },
  {
   "cell_type": "code",
   "execution_count": 5,
   "metadata": {},
   "outputs": [],
   "source": [
    "def parseJsonFiles(filenames: Iterable[str], processes = None, chunksize=None) -> dict:\n",
    "    start_t = time.perf_counter()\n",
    "    parsedJsonFiles: dict = dict()\n",
    "    with Pool() as pool:\n",
    "        results = pool.map(parseJsonFile, filenames)\n",
    "\n",
    "        # for filename, content, duration in results:\n",
    "        #     print(f\"{filename} completed in {duration:.2f}s\")\n",
    "    end_t = time.perf_counter()\n",
    "    total_duration = end_t - start_t\n",
    "    print(f\"etl took {total_duration:.2f}s total\")\n",
    "    return results"
   ]
  },
  {
   "cell_type": "code",
   "execution_count": 6,
   "metadata": {},
   "outputs": [],
   "source": [
    "a = np.ones((5, 3))"
   ]
  },
  {
   "cell_type": "code",
   "execution_count": 7,
   "metadata": {},
   "outputs": [
    {
     "data": {
      "text/plain": [
       "array([[1., 1., 1.],\n",
       "       [1., 1., 1.],\n",
       "       [1., 1., 1.],\n",
       "       [1., 1., 1.],\n",
       "       [1., 1., 1.]])"
      ]
     },
     "execution_count": 7,
     "metadata": {},
     "output_type": "execute_result"
    }
   ],
   "source": [
    "a"
   ]
  },
  {
   "cell_type": "code",
   "execution_count": 8,
   "metadata": {},
   "outputs": [],
   "source": [
    "a[:,0] = [2,2,2,2,2]"
   ]
  },
  {
   "cell_type": "code",
   "execution_count": 9,
   "metadata": {},
   "outputs": [
    {
     "data": {
      "text/plain": [
       "array([[2., 1., 1.],\n",
       "       [2., 1., 1.],\n",
       "       [2., 1., 1.],\n",
       "       [2., 1., 1.],\n",
       "       [2., 1., 1.]])"
      ]
     },
     "execution_count": 9,
     "metadata": {},
     "output_type": "execute_result"
    }
   ],
   "source": [
    "a"
   ]
  },
  {
   "cell_type": "code",
   "execution_count": 16,
   "metadata": {},
   "outputs": [],
   "source": [
    "def createXandY(path2jsonFiles: str) -> Tuple[np.ndarray, np.ndarray]:\n",
    "    # (filename, dict)\n",
    "    jsonFilePaths : str = getJsonFileNamesInFolder(path2jsonFiles)\n",
    "    parsedFilesList = parseJsonFiles(jsonFilePaths)\n",
    "    numberOfFiles = int(len(parsedFilesList))\n",
    "    \n",
    "    sampleRate = int(parsedFilesList[0][1][\"sampleRate\"])\n",
    "    durationInSeconds = int(parsedFilesList[0][1][\"durationInSeconds\"])\n",
    "    datapointsPerChannel = sampleRate*durationInSeconds\n",
    "    numberOfChannels = 3\n",
    "\n",
    "    X = np.empty((numberOfFiles,datapointsPerChannel, numberOfChannels)) # (numberOfFiles, sampleRate*durationInSeconds, numberOfChannels)\n",
    "    y = np.empty((numberOfFiles,1),dtype=object) #(numberOfFiles, 1)\n",
    "\n",
    "    for idx, parsedFile in enumerate(parsedFilesList):\n",
    "        X_temp = np.empty((datapointsPerChannel, numberOfChannels))\n",
    "        \n",
    "        X_temp[:,0] = parsedFile[1][\"x\"]\n",
    "        X_temp[:,1] = parsedFile[1][\"y\"]\n",
    "        X_temp[:,2] = parsedFile[1][\"z\"]\n",
    "\n",
    "        X[idx] = X_temp\n",
    "\n",
    "        y[idx] = parsedFile[1][\"label\"]\n",
    "\n",
    "\n",
    "\n",
    "\n",
    "    return X,y \n"
   ]
  },
  {
   "cell_type": "code",
   "execution_count": 17,
   "metadata": {},
   "outputs": [
    {
     "name": "stdout",
     "output_type": "stream",
     "text": [
      "etl took 12.50s total\n"
     ]
    }
   ],
   "source": [
    "X, y = createXandY(\"../data/traintest/*.json\")"
   ]
  },
  {
   "cell_type": "code",
   "execution_count": 19,
   "metadata": {},
   "outputs": [
    {
     "name": "stdout",
     "output_type": "stream",
     "text": [
      "(1987, 40000, 3) (1987, 1)\n"
     ]
    }
   ],
   "source": [
    "print(X.shape, y.shape)"
   ]
  },
  {
   "cell_type": "code",
   "execution_count": 21,
   "metadata": {},
   "outputs": [
    {
     "data": {
      "text/plain": [
       "(40000, 3)"
      ]
     },
     "execution_count": 21,
     "metadata": {},
     "output_type": "execute_result"
    }
   ],
   "source": [
    "X[0].shape"
   ]
  },
  {
   "cell_type": "code",
   "execution_count": 41,
   "metadata": {},
   "outputs": [],
   "source": [
    "def getIndicesOfFirstOccurranceOfLabel(searchlabel:str, y):\n",
    "    labels = np.unique(y)\n",
    "    if searchlabel not in labels:\n",
    "        raise Exception(\"invalid label\", \"available labels: \", labels)\n",
    "    indices = []\n",
    "    for idx, label in enumerate(y):\n",
    "        if label[0] == searchlabel:\n",
    "            indices.append(idx)\n",
    "    return indices"
   ]
  },
  {
   "cell_type": "code",
   "execution_count": 47,
   "metadata": {},
   "outputs": [
    {
     "name": "stdout",
     "output_type": "stream",
     "text": [
      "['Gehen']\n"
     ]
    },
    {
     "data": {
      "image/png": "[encoded data removed]",
      "text/plain": [
       "<Figure size 640x480 with 1 Axes>"
      ]
     },
     "metadata": {},
     "output_type": "display_data"
    }
   ],
   "source": [
    "\n",
    "searchLabel = \"Gehen\"\n",
    "indices = getIndicesOfFirstOccurranceOfLabel(searchLabel,y)\n",
    "randomIndex = indices[3]\n",
    "print(y[randomIndex])\n",
    "plt.plot(X[randomIndex][:,0])\n",
    "plt.show()"
   ]
  },
  {
   "attachments": {},
   "cell_type": "markdown",
   "metadata": {},
   "source": [
    "# Datenvorverarbeitung"
   ]
  },
  {
   "attachments": {},
   "cell_type": "markdown",
   "metadata": {
    "tags": []
   },
   "source": [
    "# Feature Engineering"
   ]
  },
  {
   "attachments": {},
   "cell_type": "markdown",
   "metadata": {},
   "source": [
    "# Training"
   ]
  },
  {
   "attachments": {},
   "cell_type": "markdown",
   "metadata": {},
   "source": [
    "# Evaluierung"
   ]
  },
  {
   "attachments": {},
   "cell_type": "markdown",
   "metadata": {},
   "source": [
    "# Logging"
   ]
  },
  {
   "attachments": {},
   "cell_type": "markdown",
   "metadata": {},
   "source": [
    "# Model-Export"
   ]
  },
  {
   "cell_type": "markdown",
   "metadata": {},
   "source": []
  }
 ],
 "metadata": {
  "kernelspec": {
   "display_name": "Python 3",
   "language": "python",
   "name": "python3"
  },
  "language_info": {
   "codemirror_mode": {
    "name": "ipython",
    "version": 3
   },
   "file_extension": ".py",
   "mimetype": "text/x-python",
   "name": "python",
   "nbconvert_exporter": "python",
   "pygments_lexer": "ipython3",
   "version": "3.8.10"
  },
  "orig_nbformat": 4,
  "vscode": {
   "interpreter": {
    "hash": "916dbcbb3f70747c44a77c7bcd40155683ae19c65e1c03b4aa3499c5328201f1"
   }
  }
 },
 "nbformat": 4,
 "nbformat_minor": 2
}
